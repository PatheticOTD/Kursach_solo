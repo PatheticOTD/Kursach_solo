version https://git-lfs.github.com/spec/v1
oid sha256:347d273a5e8883da0ee4e2801aad35539bb92b4d44bb7d03e5d00332302206bc
size 971111
